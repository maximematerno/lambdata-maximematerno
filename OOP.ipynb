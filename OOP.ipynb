{
 "cells": [
  {
   "cell_type": "code",
   "execution_count": 26,
   "metadata": {},
   "outputs": [
    {
     "ename": "IndentationError",
     "evalue": "expected an indented block (<ipython-input-26-5fd5649e8ed1>, line 30)",
     "output_type": "error",
     "traceback": [
      "\u001b[0;36m  File \u001b[0;32m\"<ipython-input-26-5fd5649e8ed1>\"\u001b[0;36m, line \u001b[0;32m30\u001b[0m\n\u001b[0;31m    super ().__init__(player1, player2)\u001b[0m\n\u001b[0m        ^\u001b[0m\n\u001b[0;31mIndentationError\u001b[0m\u001b[0;31m:\u001b[0m expected an indented block\n"
     ]
    }
   ],
   "source": [
    "\"\"\"\n",
    "Classes to represent games\n",
    "\"\"\"\n",
    "\n",
    "class Game:\n",
    "    \"\"\" General representation of an abstract game\"\"\"\n",
    "\n",
    "    fun_level = 5\n",
    "\n",
    "    def __init__(self, player1=\"Stefano\", player2=\"Rudy\"):\n",
    "        self.rounds = 2\n",
    "        self.steps = 5\n",
    "        self.player1 = player1\n",
    "        self.player2 = player2\n",
    "\n",
    "    def print_players(self):\n",
    "        \"\"\" Print game players\"\"\"\n",
    "        print('{} is playing {}'.format(self.player1, self.player2))\n",
    "\n",
    "    def add_round(self):\n",
    "        \"\"\"Increment rounds by 1\"\"\"\n",
    "        self.rounds += 1\n",
    "\n",
    "class Tic(Game):\n",
    "    \"\"\"\n",
    "    Tictactoe subclass of game\n",
    "    \"\"\"\n",
    "\n",
    "    def __init__(self,player1='Anika', player2='Hira'):\n",
    "    super().__init__(player1, player2)\n",
    "    self.rounds = 3\n",
    "\n",
    "    def print_players(self):\n",
    "        print('{} is playing TIC TAC TOE with {}'.format(self.player1, self.player2))"
   ]
  },
  {
   "cell_type": "code",
   "execution_count": 18,
   "metadata": {},
   "outputs": [],
   "source": [
    "ttt = Tic()"
   ]
  },
  {
   "cell_type": "code",
   "execution_count": 19,
   "metadata": {},
   "outputs": [
    {
     "data": {
      "text/plain": [
       "'Stefano'"
      ]
     },
     "execution_count": 19,
     "metadata": {},
     "output_type": "execute_result"
    }
   ],
   "source": [
    "ttt.player1"
   ]
  },
  {
   "cell_type": "code",
   "execution_count": 20,
   "metadata": {},
   "outputs": [],
   "source": [
    "game = Game()"
   ]
  },
  {
   "cell_type": "code",
   "execution_count": 21,
   "metadata": {},
   "outputs": [
    {
     "name": "stdout",
     "output_type": "stream",
     "text": [
      "Stefano is playing Rudy\n"
     ]
    }
   ],
   "source": [
    "game.print_players()"
   ]
  },
  {
   "cell_type": "code",
   "execution_count": 22,
   "metadata": {},
   "outputs": [],
   "source": [
    "game.add_round()"
   ]
  },
  {
   "cell_type": "code",
   "execution_count": 23,
   "metadata": {},
   "outputs": [
    {
     "data": {
      "text/plain": [
       "3"
      ]
     },
     "execution_count": 23,
     "metadata": {},
     "output_type": "execute_result"
    }
   ],
   "source": [
    "game.rounds"
   ]
  },
  {
   "cell_type": "code",
   "execution_count": 24,
   "metadata": {},
   "outputs": [],
   "source": [
    "ttt = Tic()"
   ]
  },
  {
   "cell_type": "code",
   "execution_count": null,
   "metadata": {},
   "outputs": [],
   "source": [
    "ttt.print_"
   ]
  },
  {
   "cell_type": "code",
   "execution_count": null,
   "metadata": {},
   "outputs": [],
   "source": []
  },
  {
   "cell_type": "code",
   "execution_count": null,
   "metadata": {},
   "outputs": [],
   "source": []
  },
  {
   "cell_type": "code",
   "execution_count": null,
   "metadata": {},
   "outputs": [],
   "source": []
  },
  {
   "cell_type": "code",
   "execution_count": null,
   "metadata": {},
   "outputs": [],
   "source": []
  },
  {
   "cell_type": "code",
   "execution_count": null,
   "metadata": {},
   "outputs": [],
   "source": []
  }
 ],
 "metadata": {
  "kernelspec": {
   "display_name": "Python 3",
   "language": "python",
   "name": "python3"
  },
  "language_info": {
   "codemirror_mode": {
    "name": "ipython",
    "version": 3
   },
   "file_extension": ".py",
   "mimetype": "text/x-python",
   "name": "python",
   "nbconvert_exporter": "python",
   "pygments_lexer": "ipython3",
   "version": "3.7.3"
  }
 },
 "nbformat": 4,
 "nbformat_minor": 2
}
